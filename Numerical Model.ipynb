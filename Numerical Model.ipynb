{
 "cells": [
  {
   "cell_type": "code",
   "execution_count": 71,
   "id": "cd56c7f9",
   "metadata": {},
   "outputs": [],
   "source": [
    "\n",
    "\n",
    "#This code was developed by Scott McCoy and Sophie Rothman\n",
    "\n",
    "\n",
    "#Import\n",
    "import numpy as np\n",
    "from matplotlib import pyplot as plt\n",
    "import math\n"
   ]
  },
  {
   "cell_type": "code",
   "execution_count": 72,
   "id": "2b6054fd",
   "metadata": {},
   "outputs": [],
   "source": [
    "#%% Setting time parameters\n",
    "tf = 28000000              #final run time in Myr - 6000000\n",
    "dt = 50                   #time step (yr)\n",
    "ta = np.arange(0,tf,dt)   #array of times"
   ]
  },
  {
   "cell_type": "code",
   "execution_count": 73,
   "id": "dc772f90",
   "metadata": {},
   "outputs": [],
   "source": [
    "#%% Model grid\n",
    "L = 30e3 #63e3                  # river length [m]\n",
    "zb = 0                          #base level of mainstem [m]\n",
    "dx = 50                         #grid spacing\n",
    "xc = 400                        #set critical distance from ridge to define rivers (ie where fluvial processes turn on [m]\n",
    "x_d = np.arange(xc, (L), dx)    #build x array of distance from divide\n",
    "Nnodes = len(x_d)               #Number of nodes\n"
   ]
  },
  {
   "cell_type": "code",
   "execution_count": 74,
   "id": "9732656d",
   "metadata": {},
   "outputs": [],
   "source": [
    "#%%\n",
    "#Plotting Parameters\n",
    "plotevery = 500000     #plot every so many yr-- started as 100,000 in the animation #it was 600000 for the figures \n",
    "saveevery = 500000      #save frames every so many yr - to be plotted back in time series of evolution\n"
   ]
  },
  {
   "cell_type": "code",
   "execution_count": 75,
   "id": "b7bf31d5",
   "metadata": {},
   "outputs": [],
   "source": [
    "#%%%\n",
    "#Set Stream Power Erosion Parameters\n",
    "ka = 6.69          #hack coefficient\n",
    "h = 1.8            #inverse hack exponent\n",
    "K = 5e-7          #erodibility\n",
    "n = 1  #1              #slope exponent\n",
    "m = 0.45 #0.45           #drainage area exponent\n",
    "theta = m/n        # channel concavity"
   ]
  },
  {
   "cell_type": "code",
   "execution_count": 97,
   "id": "309ab8d3",
   "metadata": {},
   "outputs": [
    {
     "name": "stdout",
     "output_type": "stream",
     "text": [
      "[8.e-05 8.e-05 8.e-05 8.e-05 8.e-05 8.e-05 8.e-05 8.e-05 8.e-05 8.e-05\n",
      " 8.e-05 8.e-05 8.e-05 8.e-05 8.e-05 8.e-05 8.e-05 8.e-05 8.e-05 8.e-05\n",
      " 8.e-05 8.e-05 8.e-05 8.e-05 8.e-05 8.e-05 8.e-05 8.e-05 8.e-05 8.e-05\n",
      " 8.e-05 8.e-05 8.e-05 8.e-05 8.e-05 8.e-05 8.e-05 8.e-05 8.e-05 8.e-05\n",
      " 8.e-05 8.e-05 8.e-05 8.e-05 8.e-05 8.e-05 8.e-05 8.e-05 8.e-05 8.e-05\n",
      " 8.e-05 8.e-05 8.e-05 8.e-05 8.e-05 8.e-05 8.e-05 8.e-05 8.e-05 8.e-05\n",
      " 8.e-05 8.e-05 8.e-05 8.e-05 8.e-05 8.e-05 8.e-05 8.e-05 8.e-05 8.e-05\n",
      " 8.e-05 8.e-05 8.e-05 8.e-05 8.e-05 8.e-05 8.e-05 8.e-05 8.e-05 8.e-05\n",
      " 8.e-05 8.e-05 8.e-05 8.e-05 8.e-05 8.e-05 8.e-05 8.e-05 8.e-05 8.e-05\n",
      " 8.e-05 8.e-05 8.e-05 8.e-05 8.e-05 8.e-05 8.e-05 8.e-05 8.e-05 8.e-05\n",
      " 8.e-05 8.e-05 8.e-05 8.e-05 8.e-05 8.e-05 8.e-05 8.e-05 8.e-05 8.e-05\n",
      " 8.e-05 8.e-05 8.e-05 8.e-05 8.e-05 8.e-05 8.e-05 8.e-05 8.e-05 8.e-05\n",
      " 8.e-05 8.e-05 8.e-05 8.e-05 8.e-05 8.e-05 8.e-05 8.e-05 8.e-05 8.e-05\n",
      " 8.e-05 8.e-05 8.e-05 8.e-05 8.e-05 8.e-05 8.e-05 8.e-05 8.e-05 8.e-05\n",
      " 8.e-05 8.e-05 8.e-05 8.e-05 8.e-05 8.e-05 8.e-05 8.e-05 8.e-05 8.e-05\n",
      " 8.e-05 8.e-05 8.e-05 8.e-05 8.e-05 8.e-05 8.e-05 8.e-05 8.e-05 8.e-05\n",
      " 8.e-05 8.e-05 8.e-05 8.e-05 8.e-05 8.e-05 8.e-05 8.e-05 8.e-05 8.e-05\n",
      " 8.e-05 8.e-05 8.e-05 8.e-05 8.e-05 8.e-05 8.e-05 8.e-05 8.e-05 8.e-05\n",
      " 8.e-05 8.e-05 8.e-05 8.e-05 8.e-05 8.e-05 8.e-05 8.e-05 8.e-05 8.e-05\n",
      " 8.e-05 8.e-05 8.e-05 8.e-05 8.e-05 8.e-05 8.e-05 8.e-05 8.e-05 8.e-05\n",
      " 8.e-05 8.e-05 8.e-05 8.e-05 8.e-05 8.e-05 8.e-05 8.e-05 8.e-05 8.e-05\n",
      " 8.e-05 8.e-05 8.e-05 8.e-05 8.e-05 8.e-05 8.e-05 8.e-05 8.e-05 8.e-05\n",
      " 8.e-05 8.e-05 8.e-05 8.e-05 8.e-05 8.e-05 8.e-05 8.e-05 8.e-05 8.e-05\n",
      " 8.e-05 8.e-05 8.e-05 8.e-05 8.e-05 8.e-05 8.e-05 8.e-05 8.e-05 8.e-05\n",
      " 8.e-05 8.e-05 8.e-05 8.e-05 8.e-05 8.e-05 8.e-05 8.e-05 8.e-05 8.e-05\n",
      " 8.e-05 8.e-05 8.e-05 8.e-05 8.e-05 8.e-05 8.e-05 8.e-05 8.e-05 8.e-05\n",
      " 8.e-05 8.e-05 8.e-05 8.e-05 8.e-05 8.e-05 8.e-05 8.e-05 8.e-05 8.e-05\n",
      " 8.e-05 8.e-05 8.e-05 8.e-05 8.e-05 8.e-05 8.e-05 8.e-05 8.e-05 8.e-05\n",
      " 8.e-05 8.e-05 8.e-05 8.e-05 8.e-05 8.e-05 8.e-05 8.e-05 8.e-05 8.e-05\n",
      " 8.e-05 8.e-05 8.e-05 8.e-05 8.e-05 8.e-05 8.e-05 8.e-05 8.e-05 8.e-05\n",
      " 8.e-05 8.e-05 8.e-05 8.e-05 8.e-05 8.e-05 8.e-05 8.e-05 8.e-05 8.e-05\n",
      " 8.e-05 8.e-05 8.e-05 8.e-05 8.e-05 8.e-05 8.e-05 8.e-05 8.e-05 8.e-05\n",
      " 8.e-05 8.e-05 8.e-05 8.e-05 8.e-05 8.e-05 8.e-05 8.e-05 8.e-05 8.e-05\n",
      " 8.e-05 8.e-05 8.e-05 8.e-05 8.e-05 8.e-05 8.e-05 8.e-05 8.e-05 8.e-05\n",
      " 8.e-05 8.e-05 8.e-05 8.e-05 8.e-05 8.e-05 8.e-05 8.e-05 8.e-05 8.e-05\n",
      " 8.e-05 8.e-05 8.e-05 8.e-05 8.e-05 8.e-05 8.e-05 8.e-05 8.e-05 8.e-05\n",
      " 8.e-05 8.e-05 8.e-05 8.e-05 8.e-05 8.e-05 8.e-05 8.e-05 8.e-05 8.e-05\n",
      " 8.e-05 8.e-05 8.e-05 8.e-05 8.e-05 8.e-05 8.e-05 8.e-05 8.e-05 8.e-05\n",
      " 8.e-05 8.e-05 8.e-05 8.e-05 8.e-05 8.e-05 8.e-05 8.e-05 8.e-05 8.e-05\n",
      " 8.e-05 8.e-05 8.e-05 8.e-05 8.e-05 8.e-05 8.e-05 8.e-05 8.e-05 8.e-05\n",
      " 8.e-05 8.e-05 8.e-05 8.e-05 8.e-05 8.e-05 8.e-05 8.e-05 8.e-05 8.e-05\n",
      " 8.e-05 8.e-05 8.e-05 8.e-05 8.e-05 8.e-05 8.e-05 8.e-05 8.e-05 8.e-05\n",
      " 8.e-05 8.e-05 8.e-05 8.e-05 8.e-05 8.e-05 8.e-05 8.e-05 8.e-05 8.e-05\n",
      " 8.e-05 8.e-05 8.e-05 8.e-05 8.e-05 8.e-05 8.e-05 8.e-05 8.e-05 8.e-05\n",
      " 8.e-05 8.e-05 8.e-05 8.e-05 8.e-05 8.e-05 8.e-05 8.e-05 8.e-05 8.e-05\n",
      " 8.e-05 8.e-05 8.e-05 8.e-05 8.e-05 8.e-05 8.e-05 8.e-05 8.e-05 8.e-05\n",
      " 8.e-05 8.e-05 8.e-05 8.e-05 8.e-05 8.e-05 8.e-05 8.e-05 8.e-05 8.e-05\n",
      " 8.e-05 8.e-05 8.e-05 8.e-05 8.e-05 8.e-05 8.e-05 8.e-05 8.e-05 8.e-05\n",
      " 8.e-05 8.e-05 8.e-05 8.e-05 8.e-05 8.e-05 8.e-05 8.e-05 8.e-05 8.e-05\n",
      " 8.e-05 8.e-05 8.e-05 8.e-05 8.e-05 8.e-05 8.e-05 8.e-05 8.e-05 8.e-05\n",
      " 8.e-05 8.e-05 8.e-05 8.e-05 8.e-05 8.e-05 8.e-05 8.e-05 8.e-05 8.e-05\n",
      " 8.e-05 8.e-05 8.e-05 8.e-05 8.e-05 8.e-05 8.e-05 8.e-05 8.e-05 8.e-05\n",
      " 8.e-05 8.e-05 8.e-05 8.e-05 8.e-05 8.e-05 8.e-05 8.e-05 8.e-05 8.e-05\n",
      " 8.e-05 8.e-05 8.e-05 8.e-05 8.e-05 8.e-05 8.e-05 8.e-05 8.e-05 8.e-05\n",
      " 8.e-05 8.e-05 8.e-05 8.e-05 8.e-05 8.e-05 8.e-05 8.e-05 8.e-05 8.e-05\n",
      " 8.e-05 8.e-05 8.e-05 8.e-05 8.e-05 8.e-05 8.e-05 8.e-05 8.e-05 8.e-05\n",
      " 8.e-05 8.e-05 8.e-05 8.e-05 8.e-05 8.e-05 8.e-05 8.e-05 8.e-05 8.e-05\n",
      " 8.e-05 8.e-05 8.e-05 8.e-05 8.e-05 8.e-05 8.e-05 8.e-05 8.e-05 8.e-05\n",
      " 8.e-05 8.e-05 8.e-05 8.e-05 8.e-05 8.e-05 8.e-05 8.e-05 8.e-05 8.e-05\n",
      " 8.e-05 0.e+00]\n"
     ]
    }
   ],
   "source": [
    "#%% Set Uplift scheme\n",
    "U=80e-6\n",
    "Ufield = (np.ones(len(x_d))*U)   \n",
    "Ufield[-1] = 0              #Holding the outlet at 0\n",
    "\n",
    "\n",
    "#instituting a pulse of uplift\n",
    "longpulse=1      #binary for whether you want to put in a pulse\n",
    "Pulse=200         #magnitude of pulse in meters\n",
    "PulseTime=500000 #years over which pulse occurs\n",
    "PulseYear=Pulse/PulseTime   #magnitude of pulse per year\n",
    "if longpulse:\n",
    "    Upulse=U+PulseYear          #Uplift during pulse timesteps\n",
    "    Ufieldpulse=np.ones(len(x_d))*Upulse\n",
    "    Ufieldpulse[-1] = 0              #Holding the outlet at 0\n",
    "\n",
    "maxkp_track=np.zeros((int(tf/plotevery),len(x_d)))\n",
    "minkp_track=np.zeros((int(tf/plotevery),len(x_d)))\n"
   ]
  },
  {
   "cell_type": "code",
   "execution_count": 88,
   "id": "1ca75dfa",
   "metadata": {},
   "outputs": [],
   "source": [
    "#%% Autogenic Waterfall Controls\n",
    "waterfalls_ms =1            #turn on autogenic waterfalls in mainstem  - 0 turns them off\n",
    "Fms = 0.5 #factor to change efficientcy of stream power rate -we use Fms=0.5 for slow waterfalls and Fms=2 for fast waterfalls\n",
    "Sc = 0.05                     #Slope above which waterfalls are turned on\n",
    "#Initial profile - one should have a 1, others 0\n",
    "start_wf=1     # Initial profile is waterfall steady state (1)\n",
    "start_ssp=0    # Initial profile is a standard stream power(1)\n"
   ]
  },
  {
   "cell_type": "code",
   "execution_count": 89,
   "id": "a9e730f6",
   "metadata": {},
   "outputs": [
    {
     "name": "stderr",
     "output_type": "stream",
     "text": [
      "C:\\Users\\soph1\\AppData\\Local\\Temp\\ipykernel_27420\\2597857201.py:26: DeprecationWarning: `np.int` is a deprecated alias for the builtin `int`. To silence this warning, use `int` by itself. Doing this will not modify any behavior and is safe. When replacing `np.int`, you may wish to use e.g. `np.int64` or `np.int32` to specify the precision. If you wish to review your current use, check the release note link for additional information.\n",
      "Deprecated in NumPy 1.20; for more details and guidance: https://numpy.org/devdocs/release/1.20.0-notes.html#deprecations\n",
      "  numsaved=np.int(tf/saveevery)\n"
     ]
    }
   ],
   "source": [
    "#%%%%\n",
    "#Initializing other Parameters\n",
    "\n",
    "t = 0       #initial time\n",
    "iteration = 0\n",
    "\n",
    "wfix_ms =np.zeros(Nnodes)  #Array for waterfall indices - determines whether you plot where waterfalls are on?\n",
    "dzdx = np.zeros((Nnodes))\n",
    "dzdx0=np.zeros((Nnodes))\n",
    "dzdx2=np.zeros((Nnodes))\n",
    "#wfpoints=np.zeros((len(ta), Nnodes))    ###FOR TRACKING LINEAR SECTION\n",
    "\n",
    "dzdx_u=np.zeros((Nnodes))\n",
    "dzdx0_u=np.zeros((Nnodes))\n",
    "dzdx2_u=np.zeros((Nnodes))\n",
    "z=np.zeros((Nnodes))\n",
    "z0=np.zeros((Nnodes))\n",
    "z2=np.zeros((Nnodes))\n",
    "zwf=np.zeros((Nnodes))\n",
    "z0_u=np.zeros((Nnodes))\n",
    "z2_u=np.zeros((Nnodes))\n",
    "zwf_u=np.zeros((Nnodes))\n",
    "zwf = np.zeros((Nnodes))\n",
    "dzdx_wf=np.zeros(Nnodes)\n",
    "\n",
    "numsaved=np.int(tf/saveevery)\n",
    "save_array_prof=np.zeros((numsaved, Nnodes))\n",
    "save_array_dzdx=np.zeros((numsaved, Nnodes))\n",
    "maxkp_track=np.zeros((int(tf/plotevery),len(x_d)))\n",
    "minkp_track=np.zeros((int(tf/plotevery),len(x_d)))\n",
    "savez=np.zeros((int(tf/plotevery),len(x_d)))\n",
    "savecurve=np.zeros((int(tf/plotevery),len(x_d)))\n",
    "knickzones=np.zeros((np.shape(minkp_track)))\n",
    "\n"
   ]
  },
  {
   "cell_type": "code",
   "execution_count": null,
   "id": "fdb48685",
   "metadata": {},
   "outputs": [],
   "source": []
  },
  {
   "cell_type": "code",
   "execution_count": 90,
   "id": "6493fb2a",
   "metadata": {},
   "outputs": [
    {
     "data": {
      "image/png": "[encoded data removed]",
      "text/plain": [
       "<Figure size 432x288 with 1 Axes>"
      ]
     },
     "metadata": {
      "needs_background": "light"
     },
     "output_type": "display_data"
    }
   ],
   "source": [
    "#%% Creating Standard Stream Power Steady State\n",
    "z0[0:(Nnodes)] = (((U/K)**(1/n))*((ka**(-theta))/(1-(h*theta)))*(((L)**(1-(h*theta))) - (x_d[0:(Nnodes)]**(1-(h*theta)))))\n",
    "    #slope\n",
    "dzdx0[0:(Nnodes-1)] = (1/dx)*(z0[0:(Nnodes-1)] - z0[1:(Nnodes)])\n",
    "zb=z0[-1]\n",
    "plt.plot(30-x_d/1e3, z0)\n",
    "\n",
    "plt.ylabel('Elevation (m)')\n",
    "plt.xlabel('Distance from outlet(km)')\n",
    "plt.gca().invert_xaxis()"
   ]
  },
  {
   "cell_type": "code",
   "execution_count": 91,
   "id": "2098490c",
   "metadata": {},
   "outputs": [
    {
     "name": "stderr",
     "output_type": "stream",
     "text": [
      "C:\\Users\\soph1\\AppData\\Local\\Temp\\ipykernel_27420\\155481380.py:14: DeprecationWarning: `np.int` is a deprecated alias for the builtin `int`. To silence this warning, use `int` by itself. Doing this will not modify any behavior and is safe. When replacing `np.int`, you may wish to use e.g. `np.int64` or `np.int32` to specify the precision. If you wish to review your current use, check the release note link for additional information.\n",
      "Deprecated in NumPy 1.20; for more details and guidance: https://numpy.org/devdocs/release/1.20.0-notes.html#deprecations\n",
      "  if len(x_d)> (np.int(((xcrit-xc)/dx))-1):\n",
      "C:\\Users\\soph1\\AppData\\Local\\Temp\\ipykernel_27420\\155481380.py:15: DeprecationWarning: `np.int` is a deprecated alias for the builtin `int`. To silence this warning, use `int` by itself. Doing this will not modify any behavior and is safe. When replacing `np.int`, you may wish to use e.g. `np.int64` or `np.int32` to specify the precision. If you wish to review your current use, check the release note link for additional information.\n",
      "Deprecated in NumPy 1.20; for more details and guidance: https://numpy.org/devdocs/release/1.20.0-notes.html#deprecations\n",
      "  zcrit= (((U/K)**(1/n))*((ka**(-theta))/(1-(h*theta)))*(((L)**(1-(h*theta))) - (x_d[(np.int(((xcrit-xc)/dx))-1)]**(1-(h*theta)))))\n",
      "C:\\Users\\soph1\\AppData\\Local\\Temp\\ipykernel_27420\\155481380.py:22: DeprecationWarning: `np.int` is a deprecated alias for the builtin `int`. To silence this warning, use `int` by itself. Doing this will not modify any behavior and is safe. When replacing `np.int`, you may wish to use e.g. `np.int64` or `np.int32` to specify the precision. If you wish to review your current use, check the release note link for additional information.\n",
      "Deprecated in NumPy 1.20; for more details and guidance: https://numpy.org/devdocs/release/1.20.0-notes.html#deprecations\n",
      "  for i in range(np.int(((xcrit-xc)/dx))+1, (Nnodes-1)):\n",
      "C:\\Users\\soph1\\AppData\\Local\\Temp\\ipykernel_27420\\155481380.py:26: DeprecationWarning: `np.int` is a deprecated alias for the builtin `int`. To silence this warning, use `int` by itself. Doing this will not modify any behavior and is safe. When replacing `np.int`, you may wish to use e.g. `np.int64` or `np.int32` to specify the precision. If you wish to review your current use, check the release note link for additional information.\n",
      "Deprecated in NumPy 1.20; for more details and guidance: https://numpy.org/devdocs/release/1.20.0-notes.html#deprecations\n",
      "  for i in range(0, (np.int((xcrit-xc)/dx))+1):\n",
      "C:\\Users\\soph1\\AppData\\Local\\Temp\\ipykernel_27420\\155481380.py:27: DeprecationWarning: `np.int` is a deprecated alias for the builtin `int`. To silence this warning, use `int` by itself. Doing this will not modify any behavior and is safe. When replacing `np.int`, you may wish to use e.g. `np.int64` or `np.int32` to specify the precision. If you wish to review your current use, check the release note link for additional information.\n",
      "Deprecated in NumPy 1.20; for more details and guidance: https://numpy.org/devdocs/release/1.20.0-notes.html#deprecations\n",
      "  zwf[i]=z2[i]-z2[np.int((xcrit-xc)/dx)+1]+zwf[np.int((xcrit-xc)/dx)+1]\n"
     ]
    },
    {
     "data": {
      "image/png": "[encoded data removed]",
      "text/plain": [
       "<Figure size 432x288 with 1 Axes>"
      ]
     },
     "metadata": {
      "needs_background": "light"
     },
     "output_type": "display_data"
    }
   ],
   "source": [
    "#%% Creating Waterfall Steady State\n",
    "\n",
    "#Waterfall Effected Profile\n",
    "    #elevation\n",
    "z2[0:(Nnodes)] = (((U/(K*Fms))**(1/n))*((ka**(-theta))/(1-(h*theta)))*(((L)**(1-(h*theta))) - (x_d[0:(Nnodes)]**(1-(h*theta)))))\n",
    "    #slope\n",
    "dzdx2[0:(Nnodes-1)] = (1/dx)*(z2[0:(Nnodes-1)] - z2[1:(Nnodes)]) \n",
    "\n",
    "#The points at which the profile switches between F=1 and F=Fwf\n",
    "xcrit_2=(((U/(K*Fms*(ka**m)))**(1/(h*m)))*((1/Sc)**(n/(h*m))))\n",
    "xcrit=(((U/(K*(ka**m)))**(1/(h*m)))*((1/Sc)**(n/(h*m))))\n",
    "\n",
    "#Find the elevation at xcrit\n",
    "if len(x_d)> (np.int(((xcrit-xc)/dx))-1):\n",
    "    zcrit= (((U/K)**(1/n))*((ka**(-theta))/(1-(h*theta)))*(((L)**(1-(h*theta))) - (x_d[(np.int(((xcrit-xc)/dx))-1)]**(1-(h*theta)))))\n",
    "else:\n",
    "    print('xcrit occurs farther from the divide than length')\n",
    "    \n",
    "\n",
    "#Putting together the profiles for a slow waterfall\n",
    "if Fms<=1:\n",
    "    for i in range(np.int(((xcrit-xc)/dx))+1, (Nnodes-1)):\n",
    "        zwf[i]=z0[i]\n",
    "        dzdx_wf[i]=dzdx0[i]\n",
    "        \n",
    "    for i in range(0, (np.int((xcrit-xc)/dx))+1):\n",
    "        zwf[i]=z2[i]-z2[np.int((xcrit-xc)/dx)+1]+zwf[np.int((xcrit-xc)/dx)+1]\n",
    "        dzdx_wf[i]=dzdx2[i]\n",
    "\n",
    "#creating the fast waterfall profile takes the extra step of finding x_crit2 \n",
    "#and z_crit2\n",
    "#FAST WATERFALLS\n",
    "\n",
    "if Fms>1:\n",
    "    xcrit_2=(((U/(K*Fms*(ka**m)))**(1/(h*m)))*((1/Sc)**(n/(h*m))))\n",
    "    zcrit2=z0[np.int((xcrit-xc)/dx)]+(Sc*(xcrit-xcrit_2))\n",
    "    \n",
    "    for i in range(np.int(((xcrit-xc)/dx)), (Nnodes)):\n",
    "        zwf[i]=z0[i]\n",
    "        dzdx_wf[i]=dzdx0[i]\n",
    "    \n",
    "    for i in range((np.int((xcrit_2-xc)/dx)), (np.int((xcrit-xc)/dx))):\n",
    "        zwf[i]=(zwf[(np.int((xcrit-xc)/dx))]+((x_d[(np.int((xcrit-xc)/dx))]-x_d[i])*Sc))\n",
    "        dzdx_wf[i]=Sc\n",
    "\n",
    "    for i in range(0,(np.int((xcrit_2-xc)/dx))):\n",
    "        zwf[i]=(z2[i]-z2[np.int((xcrit_2-xc)/dx)] + zwf[np.int((xcrit_2-xc)/dx)])\n",
    "        dzdx_wf[i]=dzdx2[i]\n",
    "plt.plot(30-x_d/1e3, zwf)\n",
    "plt.title('WF Steady State, F = '+ str(Fms))\n",
    "plt.ylabel('Elevation (m)')\n",
    "plt.xlabel('Distance from outlet(km)')\n",
    "plt.gca().invert_xaxis()\n",
    "  "
   ]
  },
  {
   "cell_type": "code",
   "execution_count": 92,
   "id": "29539b4e",
   "metadata": {},
   "outputs": [
    {
     "name": "stderr",
     "output_type": "stream",
     "text": [
      "C:\\Users\\soph1\\AppData\\Local\\Temp\\ipykernel_27420\\2818793046.py:27: UserWarning: Matplotlib is currently using module://matplotlib_inline.backend_inline, which is a non-GUI backend, so cannot show the figure.\n",
      "  fig1.show()\n"
     ]
    },
    {
     "data": {
      "text/plain": [
       "<Figure size 1296x936 with 0 Axes>"
      ]
     },
     "metadata": {},
     "output_type": "display_data"
    },
    {
     "data": {
      "image/png": "[encoded data removed]",
      "text/plain": [
       "<Figure size 504x288 with 2 Axes>"
      ]
     },
     "metadata": {
      "needs_background": "light"
     },
     "output_type": "display_data"
    }
   ],
   "source": [
    "#%%% setting the initial profile depending on choices, plotting initial profile\n",
    "if start_wf:\n",
    "    z=np.copy(zwf)\n",
    "    dzdx=np.copy(dzdx_wf)\n",
    "if start_ssp:\n",
    "    z=z0\n",
    "    dzdx=dzdx0\n",
    "\n",
    "fig1=plt.figure(figsize=(18,13))\n",
    "fig1, (ax1)= plt.subplots(figsize=(7, 4),nrows=1, ncols=1)\n",
    "\n",
    "ax1.set_xlabel('Distance from Outlet (km)')\n",
    "ax1.set_title('Slope and elevation profile, F='+str(Fms))\n",
    "ax1.plot((x_d/1e3), zwf, 'b-', label='Elevation')\n",
    "ax1.set_ylabel('Elevation (m)')\n",
    "#ax1.plot(xcrit/1e3, zcrit, 'ro')\n",
    "    #ax1.plot(xcrit_2/1e3, zcrit2, 'yo')\n",
    "\n",
    "ax11=ax1.twinx() \n",
    "ax11.plot( (x_d/1e3),dzdx_wf, 'y-', label='Slope')      ####Plots both elevation and slope\n",
    "ax11.set_ylabel('Slope')\n",
    "ax1.get_shared_x_axes().join(ax1, ax11) ####or ax2=ax1.twinx()\n",
    "ax1.legend()\n",
    "    #ax1.set_ylim(0,3000)\n",
    "    #ax11.set_ylim(0,0.9)\n",
    "ax11.legend(loc='upper center')\n",
    "fig1.show()"
   ]
  },
  {
   "cell_type": "code",
   "execution_count": 93,
   "id": "a1c36a5a",
   "metadata": {},
   "outputs": [
    {
     "data": {
      "text/plain": [
       "Text(0.5, 1.0, 'Chi plot F=0.5')"
      ]
     },
     "execution_count": 93,
     "metadata": {},
     "output_type": "execute_result"
    },
    {
     "data": {
      "text/plain": [
       "<Figure size 432x288 with 0 Axes>"
      ]
     },
     "metadata": {},
     "output_type": "display_data"
    },
    {
     "data": {
      "image/png": "[encoded data removed]",
      "text/plain": [
       "<Figure size 432x288 with 1 Axes>"
      ]
     },
     "metadata": {
      "needs_background": "light"
     },
     "output_type": "display_data"
    }
   ],
   "source": [
    "#%% Making Chi\n",
    "A = ka*x_d**h    # calculate drainage area using Hack's law, which is formulated as a function of distance from the divide\n",
    "A_sfo = np.flip(A)  # make first element of A be area at outlet\n",
    "chi = dx * np.cumsum(A_sfo**(-theta)) #calculate chi at each stream node by integrating upstream from baselevel, which is why must flip A so A(1) is area at outlet\n",
    "tau=dx*np.cumsum((1/K)*(A_sfo**(-m)))\n",
    "chi=np.flip(chi)\n",
    "\n",
    "fig1=plt.figure()\n",
    "fig1, (ax3)=plt.subplots(figsize=(6, 4),nrows=1, ncols=1)\n",
    "ax3.plot(chi, z, 'k--')\n",
    "ax3.set_xlabel('Chi(m)')\n",
    "ax3.set_ylabel('ELevation (m)')\n",
    "ax3.invert_xaxis()\n",
    "ax3.set_title('Chi plot F=' + str(Fms))"
   ]
  },
  {
   "cell_type": "code",
   "execution_count": 98,
   "id": "31e5758d",
   "metadata": {},
   "outputs": [
    {
     "data": {
      "image/png": "[encoded data removed]",
      "text/plain": [
       "<Figure size 432x288 with 1 Axes>"
      ]
     },
     "metadata": {
      "needs_background": "light"
     },
     "output_type": "display_data"
    },
    {
     "data": {
      "text/plain": [
       "<Figure size 648x144 with 0 Axes>"
      ]
     },
     "metadata": {},
     "output_type": "display_data"
    },
    {
     "data": {
      "image/png": "[encoded data removed]",
      "text/plain": [
       "<Figure size 720x504 with 2 Axes>"
      ]
     },
     "metadata": {},
     "output_type": "display_data"
    },
    {
     "data": {
      "text/plain": [
       "<Figure size 648x144 with 0 Axes>"
      ]
     },
     "metadata": {},
     "output_type": "display_data"
    },
    {
     "name": "stdout",
     "output_type": "stream",
     "text": [
      "Error in callback <function flush_figures at 0x000002455F554310> (for post_execute):\n"
     ]
    },
    {
     "name": "stderr",
     "output_type": "stream",
     "text": [
      "\n",
      "KeyboardInterrupt\n",
      "\n"
     ]
    }
   ],
   "source": [
    "\n",
    "\n",
    "\n",
    "E_total=np.zeros(len(x_d))\n",
    "E=np.zeros(len(x_d))\n",
    "plotted=0\n",
    "\n",
    "#RUNNING THE NUMERICAL MODEL\n",
    "counter=0\n",
    "from IPython.display import display, clear_output\n",
    "savednum=0\n",
    "for iiii in range (1, len(ta)):    #len(ta)\n",
    "        #For plotting a time series of    \n",
    "    if (math.remainder(ta[iiii],saveevery)==0):\n",
    "        save_array_prof[savednum, :]=z\n",
    "        save_array_dzdx[savednum, :]=dzdx\n",
    "        savednum=savednum+1\n",
    "    if (math.remainder(ta[iiii],plotevery)==0): #plot initial condition and then every plotevery iterations\n",
    "        plotted=plotted+1\n",
    "        plt.cla()\n",
    "        fig1=plt.figure(figsize=(9,2))\n",
    "        fig1, (ax1, ax3)= plt.subplots(figsize=(10, 7),nrows=2, ncols=1)\n",
    "        fig1.patch.set_facecolor('white')#'xkcd:mint green')\n",
    "        #fig2, (ax3)=plt.subplots(figsize=(8, 4), nrows=1, ncols=1)\n",
    "        \n",
    "        savez[counter,:]=z\n",
    "        E_total=E_total+E*dt\n",
    "       \n",
    "        w = 50    #number of points to fit  polynomial to\n",
    "        l = len(z)  #length of profile\n",
    "        curvature=np.zeros(l) #initialize vector for hill top laplacian\n",
    "        for ic in range(int(w/2+1), int(l-(w/2))): #  % center point index of point centered window\n",
    "            xhh =x_d[int(ic-w/2):int(ic+w/2)]\n",
    "            yp = z[int(ic-w/2):int(ic+w/2)]\n",
    "            p = np.polyfit(xhh,yp,2) # %fit a second order polynomial to points in moving window\n",
    "                            ###differentiate twice\n",
    "            kpp = np.polyder(p)\n",
    "            curvature[ic] = np.polyder(kpp) #hilltop laplacian\n",
    "        \n",
    "        savecurve[counter,:]=curvature\n",
    "\n",
    "        ##########################################\n",
    "        #if Fms<1:\n",
    "           # fdzdx=np.genfromtxt(fname='slowwfdzdx_numss.txt')\n",
    "        if Fms>1:\n",
    "            fdzdx=dzdx_wf\n",
    "        kz=np.logical_or((dzdx>1.05*fdzdx), (dzdx<.95*fdzdx))\n",
    "\n",
    "\n",
    "        knickzones[counter,:]=kz \n",
    "        if len(x_d[kz])>2:\n",
    "            kz1=np.where(kz>0)[0][1]\n",
    "            kzend=np.where(kz>0)[0][-1]\n",
    "        \n",
    "        \n",
    "        #plotting active waterfall sites\n",
    "        if waterfalls_ms:\n",
    "            v=0\n",
    "            wfix_x=np.zeros(Nnodes)\n",
    "            wfix_z=np.zeros(Nnodes)\n",
    "            wfix_dzdx=np.zeros(Nnodes)\n",
    "            wfix_dzdx_avg=np.zeros(Nnodes)\n",
    "            dzdx_avg=np.zeros(Nnodes)\n",
    "            for i in range(10,Nnodes-10):\n",
    "                dzdx_avg[i]=np.average(dzdx[(i-10):(i+10)])\n",
    "            for gg in range(0,len(dzdx)):\n",
    "                if dzdx[gg]>Sc:\n",
    "                    wfix_x[v]=x_d[gg]\n",
    "                    wfix_z[v]=z[gg]\n",
    "                    wfix_dzdx[v]=dzdx[gg]\n",
    "                    wfix_dzdx_avg[v]=dzdx_avg[gg]\n",
    "                    v=v+1\n",
    "\n",
    "               \n",
    "            ax1.set_xlabel('Distance from the Outlet (km)', size='15')\n",
    "            ax1.set_ylabel('Elevation (m)', size='15')\n",
    "            ax1.plot((30-(x_d/1e3)), z)\n",
    "            #ax1.plot(x_d/1e3, fz, 'k--', label='Initial steady state')\n",
    "            ax1.scatter((30-x_d[dzdx<Sc]/1e3), z[dzdx<Sc], edgecolor='yellow', facecolor='yellow', label='Non-Waterfall Nodes')\n",
    "            ax1.scatter((30-x_d[dzdx>Sc]/1e3), z[dzdx>Sc], edgecolor='blue', facecolor='none', label='Waterfall Nodes')\n",
    "            ax1.set_ylim(0,2000)\n",
    "            ax1.invert_xaxis()\n",
    "            ax1.set_title('t = ' + str(int(ta[iiii]/1e6))+ ' Ma', fontsize='15')\n",
    "            if len(x_d[kz])>2:\n",
    "                ax1.axvline(x=(30-x_d[kz1]/1e3), color='orange', label='Adjustment Zone: Upstream Extent')\n",
    "                ax1.axvline(x=(30-x_d[kzend]/1e3), color='purple', label='Adjustment Zone: Downstream Extent')\n",
    "                ax3.axvline(x=(30-x_d[kz1]/1e3), color='orange')\n",
    "                ax3.axvline(x=(30-x_d[kzend]/1e3), color='purple')\n",
    "                \n",
    "\n",
    "            #ax1.text (0.05, .8,'t = ' + str(ta[i]/1e6)+ ' Ma',horizontalalignment='center', verticalalignment='center',transform = ax1.transAxes, fontsize=15) \n",
    "\n",
    "            ax3.plot( 30-(x_d/1e3),dzdx, 'k:')\n",
    "           # ax3.plot(x_d/1e3, fdzdx, 'k--', label='Initial steady state')\n",
    "\n",
    "            ax3.scatter(30-(x_d[dzdx<Sc]/1e3), dzdx[dzdx<Sc], edgecolor='yellow', facecolor='yellow', label='Non-Waterfall Nodes')\n",
    "            ax3.scatter(30-(wfix_x/1e3), wfix_dzdx, edgecolor='blue', facecolor='none', label='Waterfall Nodes')\n",
    "            ax3.invert_xaxis()\n",
    "            ax3.set_xlabel('Distance from the Outlet (km)', size='15')\n",
    "            ax3.set_ylabel('Slope', size='15')\n",
    "            #ax3.set_xlim(3,25)\n",
    "            ax3.set_ylim(0, .25)\n",
    "            ax3.text (0.05, .17,'Sc',horizontalalignment='center', verticalalignment='center',transform = ax3.transAxes, fontsize=15) \n",
    "            ax3.plot((x_d/1e3), (np.ones(Nnodes)*Sc), color='#808080', linestyle='-')\n",
    "            ax1.legend(loc='upper right', fontsize='13') \n",
    "            #ax3.plot( (x_d/1e3),dzdx_wf, 'y-', label='pre-pulse steady state')\n",
    "            fig1.tight_layout(pad=1)\n",
    "\n",
    "\n",
    "\n",
    "        if not waterfalls_ms:\n",
    "            ax3.plot( (x_d/1e3),dzdx, 'y-', label='numerical solution')\n",
    "            \n",
    "        #fig1.savefig('thirdplot'+ str(counter)+'.png')\n",
    "        counter=counter+1\n",
    "        fig1.subplots_adjust(left=0.125,\n",
    "                    bottom=0.1, \n",
    "                    right=0.9, \n",
    "                    top=0.9, \n",
    "                    wspace=0.2, \n",
    "                    hspace=0.35)\n",
    "        \n",
    "        plt.tight_layout(pad=2)\n",
    "        display(fig1) # these are the two lines you need for the animation\n",
    "        clear_output(wait=True)  \n",
    "    \n",
    "        \n",
    "        \n",
    "    #For plotting a time series of    \n",
    "   # if (math.remainder(ta[i],saveevery)==0):\n",
    "   #     save_array_prof[savednum, :]=z\n",
    "   #     save_array_dzdx[savednum, :]=dzdx\n",
    "   #     savednum=savednum+1\n",
    "\n",
    "    dzdx[0:(Nnodes-1)] = (1/dx)*(z[0:(Nnodes-1)] - z[1:(Nnodes)]) \n",
    "\n",
    "    negslope=dzdx[dzdx<0]\n",
    "    if len(negslope)>=1:\n",
    "        print('negative slope')\n",
    "        print(negslope)\n",
    "        #break\n",
    "    dzdx[(Nnodes-1)]=0\n",
    "    z[Nnodes-1]=zb\n",
    "    zold = z\n",
    "    E = K * A**m * dzdx**n\n",
    "\n",
    "\n",
    "    #For tracking where the waterfalls are in the linear section over time\n",
    "    if waterfalls_ms:\n",
    "        #wfix_ms = find(dzdx>Sc)        #get index of nodes that have waterfal\n",
    "        E[dzdx>Sc] = Fms*E[dzdx>Sc]\n",
    "        #wfpoints[i,:]=dzdx>Sc\n",
    "    Utot=Ufield\n",
    "    if longpulse:\n",
    "        if ta[iiii]<PulseTime:\n",
    "            Utot=Ufieldpulse\n",
    "\n",
    "\n",
    "        #for jjj in range (0, len(ta)):\n",
    "            #if dzdx[jjj]>Sc:\n",
    "            #    wfpoints[i, jjj]=1\n",
    "            #else:\n",
    "            #    wfpoints[i, jjj]=0\n",
    "                \n",
    "        #wfpoints[i,:]=x_d[dzdx>Sc]\n",
    "        #wfpoints=np.zeros((np.int(tf/dt), Nnodes))\n",
    "        \n",
    "        \n",
    "        \n",
    "        #Use Ufield_array to step change the uplift\n",
    "\n",
    "    z = z + (Utot - E)*dt                 #update new elevations\n",
    "\n",
    "\n",
    "    \n",
    "    "
   ]
  },
  {
   "cell_type": "code",
   "execution_count": null,
   "id": "a43a49ca",
   "metadata": {},
   "outputs": [],
   "source": []
  },
  {
   "cell_type": "code",
   "execution_count": null,
   "id": "fcd93040",
   "metadata": {},
   "outputs": [],
   "source": []
  },
  {
   "cell_type": "code",
   "execution_count": null,
   "id": "c2a79880",
   "metadata": {},
   "outputs": [],
   "source": []
  },
  {
   "cell_type": "code",
   "execution_count": null,
   "id": "22e183fd",
   "metadata": {},
   "outputs": [],
   "source": []
  },
  {
   "cell_type": "code",
   "execution_count": null,
   "id": "87522050",
   "metadata": {},
   "outputs": [],
   "source": []
  }
 ],
 "metadata": {
  "kernelspec": {
   "display_name": "Python 3 (ipykernel)",
   "language": "python",
   "name": "python3"
  },
  "language_info": {
   "codemirror_mode": {
    "name": "ipython",
    "version": 3
   },
   "file_extension": ".py",
   "mimetype": "text/x-python",
   "name": "python",
   "nbconvert_exporter": "python",
   "pygments_lexer": "ipython3",
   "version": "3.9.12"
  }
 },
 "nbformat": 4,
 "nbformat_minor": 5
}
